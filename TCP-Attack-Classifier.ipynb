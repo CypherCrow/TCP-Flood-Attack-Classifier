{
 "cells": [
  {
   "cell_type": "code",
   "execution_count": 2,
   "metadata": {},
   "outputs": [
    {
     "name": "stdout",
     "output_type": "stream",
     "text": [
      "Requirement already satisfied: pandas in c:\\users\\akanb\\appdata\\local\\packages\\pythonsoftwarefoundation.python.3.8_qbz5n2kfra8p0\\localcache\\local-packages\\python38\\site-packages (1.1.2)\n",
      "Requirement already satisfied: numpy>=1.15.4 in c:\\users\\akanb\\appdata\\local\\packages\\pythonsoftwarefoundation.python.3.8_qbz5n2kfra8p0\\localcache\\local-packages\\python38\\site-packages (from pandas) (1.19.4)\n",
      "Requirement already satisfied: pytz>=2017.2 in c:\\users\\akanb\\appdata\\local\\packages\\pythonsoftwarefoundation.python.3.8_qbz5n2kfra8p0\\localcache\\local-packages\\python38\\site-packages (from pandas) (2020.1)\n",
      "Requirement already satisfied: python-dateutil>=2.7.3 in c:\\users\\akanb\\appdata\\local\\packages\\pythonsoftwarefoundation.python.3.8_qbz5n2kfra8p0\\localcache\\local-packages\\python38\\site-packages (from pandas) (2.8.1)\n",
      "Requirement already satisfied: six>=1.5 in c:\\users\\akanb\\appdata\\local\\packages\\pythonsoftwarefoundation.python.3.8_qbz5n2kfra8p0\\localcache\\local-packages\\python38\\site-packages (from python-dateutil>=2.7.3->pandas) (1.15.0)\n",
      "Requirement already satisfied: seaborn in c:\\users\\akanb\\appdata\\local\\packages\\pythonsoftwarefoundation.python.3.8_qbz5n2kfra8p0\\localcache\\local-packages\\python38\\site-packages (0.11.0)\n",
      "Requirement already satisfied: scipy>=1.0 in c:\\users\\akanb\\appdata\\local\\packages\\pythonsoftwarefoundation.python.3.8_qbz5n2kfra8p0\\localcache\\local-packages\\python38\\site-packages (from seaborn) (1.5.2)\n",
      "Requirement already satisfied: numpy>=1.15 in c:\\users\\akanb\\appdata\\local\\packages\\pythonsoftwarefoundation.python.3.8_qbz5n2kfra8p0\\localcache\\local-packages\\python38\\site-packages (from seaborn) (1.19.4)\n",
      "Requirement already satisfied: pandas>=0.23 in c:\\users\\akanb\\appdata\\local\\packages\\pythonsoftwarefoundation.python.3.8_qbz5n2kfra8p0\\localcache\\local-packages\\python38\\site-packages (from seaborn) (1.1.2)\n",
      "Requirement already satisfied: matplotlib>=2.2 in c:\\users\\akanb\\appdata\\local\\packages\\pythonsoftwarefoundation.python.3.8_qbz5n2kfra8p0\\localcache\\local-packages\\python38\\site-packages (from seaborn) (3.2.2)\n",
      "Requirement already satisfied: kiwisolver>=1.0.1 in c:\\users\\akanb\\appdata\\local\\packages\\pythonsoftwarefoundation.python.3.8_qbz5n2kfra8p0\\localcache\\local-packages\\python38\\site-packages (from matplotlib>=2.2->seaborn) (1.2.0)\n",
      "Requirement already satisfied: python-dateutil>=2.1 in c:\\users\\akanb\\appdata\\local\\packages\\pythonsoftwarefoundation.python.3.8_qbz5n2kfra8p0\\localcache\\local-packages\\python38\\site-packages (from matplotlib>=2.2->seaborn) (2.8.1)\n",
      "Requirement already satisfied: cycler>=0.10 in c:\\users\\akanb\\appdata\\local\\packages\\pythonsoftwarefoundation.python.3.8_qbz5n2kfra8p0\\localcache\\local-packages\\python38\\site-packages (from matplotlib>=2.2->seaborn) (0.10.0)\n",
      "Requirement already satisfied: pyparsing!=2.0.4,!=2.1.2,!=2.1.6,>=2.0.1 in c:\\users\\akanb\\appdata\\local\\packages\\pythonsoftwarefoundation.python.3.8_qbz5n2kfra8p0\\localcache\\local-packages\\python38\\site-packages (from matplotlib>=2.2->seaborn) (2.4.7)\n",
      "Requirement already satisfied: six in c:\\users\\akanb\\appdata\\local\\packages\\pythonsoftwarefoundation.python.3.8_qbz5n2kfra8p0\\localcache\\local-packages\\python38\\site-packages (from cycler>=0.10->matplotlib>=2.2->seaborn) (1.15.0)\n",
      "Requirement already satisfied: pytz>=2017.2 in c:\\users\\akanb\\appdata\\local\\packages\\pythonsoftwarefoundation.python.3.8_qbz5n2kfra8p0\\localcache\\local-packages\\python38\\site-packages (from pandas>=0.23->seaborn) (2020.1)\n"
     ]
    }
   ],
   "source": [
    "!pip install pandas\n",
    "!pip install seaborn\n",
    "!pip install sklearn"
   ]
  },
  {
   "cell_type": "code",
   "execution_count": 10,
   "metadata": {},
   "outputs": [],
   "source": [
    "import pandas as pd\n",
    "import seaborn as sns\n",
    "\n",
    "from sklearn.cluster import KMeans\n",
    "from sklearn import metrics\n",
    "from sklearn.svm import SVC"
   ]
  },
  {
   "cell_type": "markdown",
   "metadata": {},
   "source": [
    "## Data Preprocessing"
   ]
  },
  {
   "cell_type": "markdown",
   "metadata": {},
   "source": [
    "### Importing .csv file of DDoS Simulation exported from Wireshark"
   ]
  },
  {
   "cell_type": "code",
   "execution_count": 4,
   "metadata": {},
   "outputs": [
    {
     "data": {
      "text/html": [
       "<div>\n",
       "<style scoped>\n",
       "    .dataframe tbody tr th:only-of-type {\n",
       "        vertical-align: middle;\n",
       "    }\n",
       "\n",
       "    .dataframe tbody tr th {\n",
       "        vertical-align: top;\n",
       "    }\n",
       "\n",
       "    .dataframe thead th {\n",
       "        text-align: right;\n",
       "    }\n",
       "</style>\n",
       "<table border=\"1\" class=\"dataframe\">\n",
       "  <thead>\n",
       "    <tr style=\"text-align: right;\">\n",
       "      <th></th>\n",
       "      <th>No.</th>\n",
       "      <th>Time</th>\n",
       "      <th>Source</th>\n",
       "      <th>Destination</th>\n",
       "      <th>Protocol</th>\n",
       "      <th>Length</th>\n",
       "      <th>Info</th>\n",
       "    </tr>\n",
       "  </thead>\n",
       "  <tbody>\n",
       "    <tr>\n",
       "      <th>0</th>\n",
       "      <td>1</td>\n",
       "      <td>0.000000</td>\n",
       "      <td>74.125.198.189</td>\n",
       "      <td>10.0.2.15</td>\n",
       "      <td>TLSv1.2</td>\n",
       "      <td>106</td>\n",
       "      <td>Application Data</td>\n",
       "    </tr>\n",
       "    <tr>\n",
       "      <th>1</th>\n",
       "      <td>2</td>\n",
       "      <td>0.000028</td>\n",
       "      <td>10.0.2.15</td>\n",
       "      <td>74.125.198.189</td>\n",
       "      <td>TCP</td>\n",
       "      <td>54</td>\n",
       "      <td>41596  &gt;  443 [ACK] Seq=1 Ack=53 Win=65535 Len=0</td>\n",
       "    </tr>\n",
       "    <tr>\n",
       "      <th>2</th>\n",
       "      <td>3</td>\n",
       "      <td>25.559208</td>\n",
       "      <td>74.125.198.189</td>\n",
       "      <td>10.0.2.15</td>\n",
       "      <td>TLSv1.2</td>\n",
       "      <td>106</td>\n",
       "      <td>Application Data</td>\n",
       "    </tr>\n",
       "    <tr>\n",
       "      <th>3</th>\n",
       "      <td>4</td>\n",
       "      <td>25.559229</td>\n",
       "      <td>10.0.2.15</td>\n",
       "      <td>74.125.198.189</td>\n",
       "      <td>TCP</td>\n",
       "      <td>54</td>\n",
       "      <td>41596  &gt;  443 [ACK] Seq=1 Ack=105 Win=65535 Len=0</td>\n",
       "    </tr>\n",
       "    <tr>\n",
       "      <th>4</th>\n",
       "      <td>5</td>\n",
       "      <td>30.576924</td>\n",
       "      <td>PcsCompu_55:da:e5</td>\n",
       "      <td>RealtekU_12:35:02</td>\n",
       "      <td>ARP</td>\n",
       "      <td>42</td>\n",
       "      <td>Who has 10.0.2.2? Tell 10.0.2.15</td>\n",
       "    </tr>\n",
       "    <tr>\n",
       "      <th>...</th>\n",
       "      <td>...</td>\n",
       "      <td>...</td>\n",
       "      <td>...</td>\n",
       "      <td>...</td>\n",
       "      <td>...</td>\n",
       "      <td>...</td>\n",
       "      <td>...</td>\n",
       "    </tr>\n",
       "    <tr>\n",
       "      <th>13408</th>\n",
       "      <td>13409</td>\n",
       "      <td>136.363761</td>\n",
       "      <td>RealtekU_12:35:02</td>\n",
       "      <td>Broadcast</td>\n",
       "      <td>ARP</td>\n",
       "      <td>60</td>\n",
       "      <td>Who has 71.27.35.84? Tell 10.0.2.2</td>\n",
       "    </tr>\n",
       "    <tr>\n",
       "      <th>13409</th>\n",
       "      <td>13410</td>\n",
       "      <td>136.363861</td>\n",
       "      <td>115.0.0.117</td>\n",
       "      <td>192.168.1.107</td>\n",
       "      <td>TCP</td>\n",
       "      <td>174</td>\n",
       "      <td>9100  &gt;  80 [&lt;None&gt;] Seq=1 Win=512 Len=120 [TC...</td>\n",
       "    </tr>\n",
       "    <tr>\n",
       "      <th>13410</th>\n",
       "      <td>13411</td>\n",
       "      <td>136.364185</td>\n",
       "      <td>RealtekU_12:35:02</td>\n",
       "      <td>Broadcast</td>\n",
       "      <td>ARP</td>\n",
       "      <td>60</td>\n",
       "      <td>Who has 115.0.0.117? Tell 10.0.2.2</td>\n",
       "    </tr>\n",
       "    <tr>\n",
       "      <th>13411</th>\n",
       "      <td>13412</td>\n",
       "      <td>136.447659</td>\n",
       "      <td>99.49.199.208</td>\n",
       "      <td>192.168.1.107</td>\n",
       "      <td>TCP</td>\n",
       "      <td>174</td>\n",
       "      <td>9101  &gt;  80 [&lt;None&gt;] Seq=1 Win=512 Len=120 [TC...</td>\n",
       "    </tr>\n",
       "    <tr>\n",
       "      <th>13412</th>\n",
       "      <td>13413</td>\n",
       "      <td>136.448530</td>\n",
       "      <td>RealtekU_12:35:02</td>\n",
       "      <td>Broadcast</td>\n",
       "      <td>ARP</td>\n",
       "      <td>60</td>\n",
       "      <td>Who has 99.49.199.208? Tell 10.0.2.2</td>\n",
       "    </tr>\n",
       "  </tbody>\n",
       "</table>\n",
       "<p>13413 rows × 7 columns</p>\n",
       "</div>"
      ],
      "text/plain": [
       "         No.        Time             Source        Destination Protocol  \\\n",
       "0          1    0.000000     74.125.198.189          10.0.2.15  TLSv1.2   \n",
       "1          2    0.000028          10.0.2.15     74.125.198.189      TCP   \n",
       "2          3   25.559208     74.125.198.189          10.0.2.15  TLSv1.2   \n",
       "3          4   25.559229          10.0.2.15     74.125.198.189      TCP   \n",
       "4          5   30.576924  PcsCompu_55:da:e5  RealtekU_12:35:02      ARP   \n",
       "...      ...         ...                ...                ...      ...   \n",
       "13408  13409  136.363761  RealtekU_12:35:02          Broadcast      ARP   \n",
       "13409  13410  136.363861        115.0.0.117      192.168.1.107      TCP   \n",
       "13410  13411  136.364185  RealtekU_12:35:02          Broadcast      ARP   \n",
       "13411  13412  136.447659      99.49.199.208      192.168.1.107      TCP   \n",
       "13412  13413  136.448530  RealtekU_12:35:02          Broadcast      ARP   \n",
       "\n",
       "       Length                                               Info  \n",
       "0         106                                   Application Data  \n",
       "1          54   41596  >  443 [ACK] Seq=1 Ack=53 Win=65535 Len=0  \n",
       "2         106                                   Application Data  \n",
       "3          54  41596  >  443 [ACK] Seq=1 Ack=105 Win=65535 Len=0  \n",
       "4          42                   Who has 10.0.2.2? Tell 10.0.2.15  \n",
       "...       ...                                                ...  \n",
       "13408      60                 Who has 71.27.35.84? Tell 10.0.2.2  \n",
       "13409     174  9100  >  80 [<None>] Seq=1 Win=512 Len=120 [TC...  \n",
       "13410      60                 Who has 115.0.0.117? Tell 10.0.2.2  \n",
       "13411     174  9101  >  80 [<None>] Seq=1 Win=512 Len=120 [TC...  \n",
       "13412      60               Who has 99.49.199.208? Tell 10.0.2.2  \n",
       "\n",
       "[13413 rows x 7 columns]"
      ]
     },
     "execution_count": 4,
     "metadata": {},
     "output_type": "execute_result"
    }
   ],
   "source": [
    "ddos_df = pd.read_csv('ddos-sim-definite.csv')\n",
    "ddos_df"
   ]
  },
  {
   "cell_type": "markdown",
   "metadata": {},
   "source": [
    "### Checking if there are any null values"
   ]
  },
  {
   "cell_type": "code",
   "execution_count": 5,
   "metadata": {},
   "outputs": [
    {
     "data": {
      "text/plain": [
       "No.            0\n",
       "Time           0\n",
       "Source         0\n",
       "Destination    0\n",
       "Protocol       0\n",
       "Length         0\n",
       "Info           0\n",
       "dtype: int64"
      ]
     },
     "execution_count": 5,
     "metadata": {},
     "output_type": "execute_result"
    }
   ],
   "source": [
    "ddos_df.isnull().sum()"
   ]
  },
  {
   "cell_type": "markdown",
   "metadata": {},
   "source": [
    "### Grabbing 'Protocol' column from the DataFrame"
   ]
  },
  {
   "cell_type": "code",
   "execution_count": 6,
   "metadata": {},
   "outputs": [
    {
     "data": {
      "text/plain": [
       "0        TLSv1.2\n",
       "1            TCP\n",
       "2        TLSv1.2\n",
       "3            TCP\n",
       "4            ARP\n",
       "          ...   \n",
       "13408        ARP\n",
       "13409        TCP\n",
       "13410        ARP\n",
       "13411        TCP\n",
       "13412        ARP\n",
       "Name: Protocol, Length: 13413, dtype: object"
      ]
     },
     "execution_count": 6,
     "metadata": {},
     "output_type": "execute_result"
    }
   ],
   "source": [
    "ddos_df_protocol = ddos_df['Protocol']\n",
    "\n",
    "ddos_df_protocol"
   ]
  },
  {
   "cell_type": "markdown",
   "metadata": {},
   "source": [
    "### Histogram plot of protocols in packets"
   ]
  },
  {
   "cell_type": "code",
   "execution_count": 7,
   "metadata": {},
   "outputs": [
    {
     "data": {
      "text/plain": [
       "<matplotlib.axes._subplots.AxesSubplot at 0x178235456d0>"
      ]
     },
     "execution_count": 7,
     "metadata": {},
     "output_type": "execute_result"
    },
    {
     "data": {
      "image/png": "[encoded data removed]",
      "text/plain": [
       "<Figure size 432x288 with 1 Axes>"
      ]
     },
     "metadata": {
      "needs_background": "light"
     },
     "output_type": "display_data"
    }
   ],
   "source": [
    "sns.histplot(data=ddos_df_protocol, bins=30, palette='flare', hue_order=ddos_df_protocol.unique())"
   ]
  },
  {
   "cell_type": "code",
   "execution_count": null,
   "metadata": {},
   "outputs": [],
   "source": []
  },
  {
   "cell_type": "markdown",
   "metadata": {},
   "source": [
    "## Attack classification: yes/no"
   ]
  },
  {
   "cell_type": "code",
   "execution_count": 9,
   "metadata": {},
   "outputs": [],
   "source": [
    "# TCP and ARP packets sent vs. period of time, or packets/time rate"
   ]
  }
 ],
 "metadata": {
  "kernelspec": {
   "display_name": "Python 3",
   "language": "python",
   "name": "python3"
  },
  "language_info": {
   "codemirror_mode": {
    "name": "ipython",
    "version": 3
   },
   "file_extension": ".py",
   "mimetype": "text/x-python",
   "name": "python",
   "nbconvert_exporter": "python",
   "pygments_lexer": "ipython3",
   "version": "3.8.7"
  }
 },
 "nbformat": 4,
 "nbformat_minor": 4
}
